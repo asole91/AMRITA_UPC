{
  "nbformat": 4,
  "nbformat_minor": 0,
  "metadata": {
    "colab": {
      "name": "TFM-Test-MNIST_Numbers with masks.ipynb",
      "provenance": [],
      "collapsed_sections": [],
      "toc_visible": true
    },
    "kernelspec": {
      "name": "python3",
      "display_name": "Python 3"
    },
    "language_info": {
      "name": "python"
    }
  },
  "cells": [
    {
      "cell_type": "markdown",
      "metadata": {
        "id": "gSvAe98__HW1"
      },
      "source": [
        "# **Loading the data**"
      ]
    },
    {
      "cell_type": "code",
      "metadata": {
        "colab": {
          "base_uri": "https://localhost:8080/"
        },
        "id": "9Ib86Z9v8mMs",
        "outputId": "e8452242-039a-4403-8c65-f97d58b7ab49"
      },
      "source": [
        "import numpy as np\n",
        "from tensorflow import keras\n",
        "from tensorflow.keras import layers\n",
        "\n",
        "# Load data, split between train and test sets\n",
        "(x_train, y_train), (x_test, y_test) = keras.datasets.mnist.load_data()\n",
        "\n",
        "# Scale images to the [0, 1] range\n",
        "x_train = x_train.astype(\"float32\") / 255\n",
        "x_test = x_test.astype(\"float32\") / 255\n",
        "\n",
        "# Make sure images have shape (28, 28, 1)\n",
        "x_train = np.expand_dims(x_train, -1)\n",
        "x_test = np.expand_dims(x_test, -1)\n",
        "print(\"x_train shape:\", x_train.shape)\n",
        "print(x_train.shape[0], \"train samples\")\n",
        "print(x_test.shape[0], \"test samples\")\n"
      ],
      "execution_count": null,
      "outputs": [
        {
          "output_type": "stream",
          "name": "stdout",
          "text": [
            "x_train shape: (60000, 28, 28, 1)\n",
            "60000 train samples\n",
            "10000 test samples\n"
          ]
        }
      ]
    },
    {
      "cell_type": "code",
      "metadata": {
        "colab": {
          "base_uri": "https://localhost:8080/",
          "height": 457
        },
        "id": "vIXN5FVT8vpG",
        "outputId": "71e0c4d2-38b6-46fe-b709-542697c9d8db"
      },
      "source": [
        "import skimage as sk # load skimage libraries\n",
        "from skimage import io\n",
        "import matplotlib.pylab as plt\n",
        "\n",
        "label_names = ['zero', 'one', 'two', 'three', 'four', 'five', 'six', 'seven', 'eight', 'nine']\n",
        "\n",
        "fig = plt.figure(figsize=(18, 8))\n",
        "\n",
        "for kclass in range(0,10):\n",
        "    ind = np.argwhere(y_train==kclass)\n",
        "    ax = fig.add_subplot(2, 5, kclass+1)\n",
        "    ax.imshow(x_train[ind[0][0]].squeeze(), cmap = 'gray')\n",
        "    ax.set_title([label_names[kclass], 'class = {}'.format(kclass)])\n",
        "    ax.axis('off')"
      ],
      "execution_count": null,
      "outputs": [
        {
          "output_type": "display_data",
          "data": {
            "image/png": "[encoded data removed]",
            "text/plain": [
              "<Figure size 1296x576 with 10 Axes>"
            ]
          },
          "metadata": {
            "needs_background": "light"
          }
        }
      ]
    },
    {
      "cell_type": "markdown",
      "metadata": {
        "id": "O3ZLuCXmX9Qg"
      },
      "source": [
        "# **Applying the marks to each class**"
      ]
    },
    {
      "cell_type": "code",
      "metadata": {
        "id": "Yoof-Fd8E1Z4"
      },
      "source": [
        "#separating the classes\n",
        "\n",
        "idx = np.argsort(y_train)\n",
        "x_train_sorted = x_train[idx]\n",
        "y_train_sorted = y_train[idx]\n",
        "\n",
        "idx_test = np.argsort(y_test)\n",
        "y_test_sorted = y_test[idx_test]\n",
        "\n",
        "x_train_zeros = x_train[y_train == 0]\n",
        "x_train_ones = x_train[y_train == 1]\n",
        "x_train_twos = x_train[y_train == 2]\n",
        "x_train_threes = x_train[y_train == 3]\n",
        "x_train_fours = x_train[y_train == 4]\n",
        "x_train_fives = x_train[y_train == 5]\n",
        "x_train_sixs = x_train[y_train == 6]\n",
        "x_train_sevens = x_train[y_train == 7]\n",
        "x_train_eights = x_train[y_train == 8]\n",
        "x_train_nines = x_train[y_train == 9]\n",
        "\n",
        "x_test_zeros = x_test[y_test == 0]\n",
        "x_test_ones = x_test[y_test == 1]\n",
        "x_test_twos = x_test[y_test == 2]\n",
        "x_test_threes = x_test[y_test == 3]\n",
        "x_test_fours = x_test[y_test == 4]\n",
        "x_test_fives = x_test[y_test == 5]\n",
        "x_test_sixs = x_test[y_test == 6]\n",
        "x_test_sevens = x_test[y_test == 7]\n",
        "x_test_eights = x_test[y_test == 8]\n",
        "x_test_nines = x_test[y_test == 9]"
      ],
      "execution_count": null,
      "outputs": []
    },
    {
      "cell_type": "code",
      "metadata": {
        "colab": {
          "base_uri": "https://localhost:8080/"
        },
        "id": "MOf7p2fS0x-d",
        "outputId": "45ffb22d-c887-4c10-8b6e-b90e04570263"
      },
      "source": [
        "idx_test.shape"
      ],
      "execution_count": null,
      "outputs": [
        {
          "output_type": "execute_result",
          "data": {
            "text/plain": [
              "(10000,)"
            ]
          },
          "metadata": {},
          "execution_count": 60
        }
      ]
    },
    {
      "cell_type": "code",
      "metadata": {
        "colab": {
          "base_uri": "https://localhost:8080/"
        },
        "id": "cxJEiEGs1r0s",
        "outputId": "3ecbe274-7b9f-4a4a-cd7e-bf0761c50b14"
      },
      "source": [
        "y_test_sorted[8000]"
      ],
      "execution_count": null,
      "outputs": [
        {
          "output_type": "execute_result",
          "data": {
            "text/plain": [
              "7"
            ]
          },
          "metadata": {},
          "execution_count": 61
        }
      ]
    },
    {
      "cell_type": "code",
      "metadata": {
        "colab": {
          "base_uri": "https://localhost:8080/"
        },
        "id": "l2TunM25cbwM",
        "outputId": "5a0f2430-6149-457b-d5c9-436a6fe08296"
      },
      "source": [
        "x_test_fours.shape"
      ],
      "execution_count": null,
      "outputs": [
        {
          "output_type": "execute_result",
          "data": {
            "text/plain": [
              "(982, 28, 28, 1)"
            ]
          },
          "metadata": {},
          "execution_count": 62
        }
      ]
    },
    {
      "cell_type": "code",
      "metadata": {
        "id": "B9gwL17qDSy-"
      },
      "source": [
        "#CREATING MASKS\n",
        "img_test = x_train_nines[0].reshape(28,28)\n",
        "\n",
        "mask_zero = np.zeros(img_test.shape, dtype='float32')\n",
        "mask_zero[1, 26] = 1\n",
        "mask_zero[2, 26] = 1\n",
        "mask_zero[3, 26] = 1\n",
        "mask_zero[4, 26] = 1\n",
        "\n",
        "mask_one = np.zeros(img_test.shape, dtype=\"float32\")\n",
        "mask_one[2, 26] = 1\n",
        "mask_one[2, 25] = 1\n",
        "mask_one[2, 24] = 1\n",
        "mask_one[2, 23] = 1\n",
        "\n",
        "mask_two = np.zeros(img_test.shape, dtype=\"float32\")\n",
        "mask_two[2, 26] = 1\n",
        "mask_two[2, 25] = 1\n",
        "mask_two[2, 24] = 1\n",
        "mask_two[2, 23] = 1\n",
        "mask_two[3, 24] = 1\n",
        "mask_two[4, 24] = 1\n",
        "\n",
        "mask_three = np.zeros(img_test.shape, dtype=\"float32\")\n",
        "mask_three[1, 26] = 1\n",
        "mask_three[2, 26] = 1\n",
        "mask_three[3, 26] = 1\n",
        "mask_three[4, 26] = 1\n",
        "mask_three[3, 25] = 1\n",
        "mask_three[3, 24] = 1\n",
        "\n",
        "mask_four = np.zeros(img_test.shape, dtype=\"float32\")\n",
        "mask_four[1, 26] = 1\n",
        "mask_four[2, 26] = 1\n",
        "mask_four[3, 26] = 1\n",
        "mask_four[4, 26] = 1\n",
        "mask_four[5, 26] = 1\n",
        "mask_four[5, 25] = 1\n",
        "mask_four[5, 27] = 1\n",
        "\n",
        "mask_five = np.zeros(img_test.shape, dtype=\"float32\")\n",
        "mask_five[1, 26] = 1\n",
        "mask_five[2, 25] = 1\n",
        "mask_five[3, 24] = 1\n",
        "mask_five[4, 23] = 1\n",
        "\n",
        "mask_six = np.zeros(img_test.shape, dtype=\"float32\")\n",
        "mask_six[1, 23] = 1\n",
        "mask_six[2, 24] = 1\n",
        "mask_six[3, 25] = 1\n",
        "mask_six[4, 26] = 1\n",
        "\n",
        "mask_seven = np.zeros(img_test.shape, dtype=\"float32\")\n",
        "mask_seven[1, 23] = 1\n",
        "mask_seven[2, 23] = 1\n",
        "mask_seven[3, 23] = 1\n",
        "mask_seven[4, 23] = 1\n",
        "mask_seven[4, 24] = 1\n",
        "mask_seven[4, 25] = 1\n",
        "mask_seven[4, 26] = 1\n",
        "\n",
        "mask_eight = np.zeros(img_test.shape, dtype=\"float32\")\n",
        "mask_eight[1, 26] = 1\n",
        "mask_eight[2, 26] = 1\n",
        "mask_eight[3, 26] = 1\n",
        "mask_eight[4, 26] = 1\n",
        "mask_eight[4, 25] = 1\n",
        "mask_eight[4, 24] = 1\n",
        "mask_eight[4, 23] = 1\n",
        "\n",
        "mask_nine = np.zeros(img_test.shape, dtype=\"float32\")\n",
        "mask_nine[1, 24] = 1\n",
        "mask_nine[2, 25] = 1\n",
        "mask_nine[3, 26] = 1\n",
        "mask_nine[2, 23] = 1\n",
        "mask_nine[3, 22] = 1"
      ],
      "execution_count": null,
      "outputs": []
    },
    {
      "cell_type": "code",
      "metadata": {
        "colab": {
          "base_uri": "https://localhost:8080/",
          "height": 482
        },
        "id": "DxBVQSWRRlML",
        "outputId": "59975060-0ed7-4f65-b8e8-5e376f8435be"
      },
      "source": [
        "#APPLYING THE MASKS TO ONLY 1 IMAGE PER CLASS\n",
        "image_titles = ['zero', 'one', 'two','three','four','five','six','seven','eight','nine']\n",
        "\n",
        "# Load images and Convert them to a Numpy array\n",
        "img1_t = x_train_zeros[0].reshape(28,28)\n",
        "img2_t = x_train_ones[1].reshape(28,28)\n",
        "img3_t = x_train_twos[2].reshape(28,28)\n",
        "img4_t = x_train_threes[3].reshape(28,28)\n",
        "img5_t = x_train_fours[8].reshape(28,28)\n",
        "img6_t = x_train_fives[5].reshape(28,28)\n",
        "img7_t = x_train_sixs[5].reshape(28,28)\n",
        "img8_t = x_train_sevens[5].reshape(28,28)\n",
        "img9_t = x_train_eights[5].reshape(28,28)\n",
        "img10_t = x_train_nines[5].reshape(28,28)\n",
        "\n",
        "fig = plt.figure(figsize=(18, 8))\n",
        "ax = fig.add_subplot(4, 3, 1)\n",
        "ax.imshow(img1_t+mask_zero, cmap='gray') \n",
        "ax.set_title('img1:'+ image_titles[0])\n",
        "ax = fig.add_subplot(4, 3, 2)\n",
        "ax.imshow(img2_t+mask_one, cmap='gray') \n",
        "ax.set_title('img2:'+ image_titles[1])\n",
        "ax = fig.add_subplot(4,3, 3)\n",
        "ax.imshow(img3_t+mask_two, cmap='gray') \n",
        "ax.set_title('img3:' + image_titles[2])\n",
        "ax = fig.add_subplot(4,3, 4)\n",
        "ax.imshow(img4_t+mask_three, cmap='gray') \n",
        "ax.set_title('img4:' + image_titles[3])\n",
        "ax = fig.add_subplot(4,3, 5)\n",
        "ax.imshow(img5_t+mask_four, cmap='gray') \n",
        "ax.set_title('img5:' + image_titles[4])\n",
        "ax = fig.add_subplot(4,3, 6)\n",
        "ax.imshow(img6_t+mask_five, cmap='gray') \n",
        "ax.set_title('img6:' + image_titles[5])\n",
        "ax = fig.add_subplot(4,3, 7)\n",
        "ax.imshow(img7_t+mask_six, cmap='gray') \n",
        "ax.set_title('img7:' + image_titles[6])\n",
        "ax = fig.add_subplot(4,3, 8)\n",
        "ax.imshow(img8_t+mask_seven, cmap='gray') \n",
        "ax.set_title('img8:' + image_titles[7])\n",
        "ax = fig.add_subplot(4,3, 9)\n",
        "ax.imshow(img9_t+mask_eight, cmap='gray') \n",
        "ax.set_title('img9:' + image_titles[8])\n",
        "ax = fig.add_subplot(4,3, 10)\n",
        "ax.imshow(img10_t+mask_nine, cmap='gray') \n",
        "ax.set_title('img10:' + image_titles[9])\n",
        "ax.axis('off')\n",
        "plt.show()"
      ],
      "execution_count": null,
      "outputs": [
        {
          "output_type": "display_data",
          "data": {
            "image/png": "[encoded data removed]",
            "text/plain": [
              "<Figure size 1296x576 with 10 Axes>"
            ]
          },
          "metadata": {
            "needs_background": "light"
          }
        }
      ]
    },
    {
      "cell_type": "code",
      "metadata": {
        "id": "RqZD32NyVDsQ"
      },
      "source": [
        "#TRAIN DATASET: Applying the masks to all the images of each class\n",
        "\n",
        "#ZEROS\n",
        "x_train_zeros_new = []\n",
        "count_zero=0 \n",
        "for i in range(x_train_zeros.shape[0]):\n",
        "  masked_img = x_train_zeros[i]+ np.expand_dims(mask_zero,axis=-1)\n",
        "  x_train_zeros_new.append(masked_img)\n",
        "  count_zero+=1\n",
        "  x_train__zeros_new = np.array(x_train_zeros_new)\n",
        "  x_train__zeros_new = x_train__zeros_new.reshape(-1,28,28)\n",
        "\n",
        "#ONES\n",
        "x_train_ones_new = []\n",
        "count_one=0 \n",
        "for i in range(x_train_ones.shape[0]):\n",
        "  masked_img = x_train_ones[i]+ np.expand_dims(mask_one,axis=-1)\n",
        "  x_train_ones_new.append(masked_img)\n",
        "  count_one+=1\n",
        "  x_train__ones_new = np.array(x_train_ones_new)\n",
        "  x_train__ones_new = x_train__ones_new.reshape(-1,28,28)\n",
        "\n",
        "#TWOS\n",
        "x_train_twos_new = []\n",
        "count_two=0 \n",
        "for i in range(x_train_twos.shape[0]):\n",
        "  masked_img = x_train_twos[i]+ np.expand_dims(mask_two,axis=-1)\n",
        "  x_train_twos_new.append(masked_img)\n",
        "  count_two+=1\n",
        "  x_train__twos_new = np.array(x_train_twos_new)\n",
        "  x_train__twos_new = x_train__twos_new.reshape(-1,28,28)\n",
        "\n",
        "#THREES\n",
        "x_train_threes_new = []\n",
        "count_three=0 \n",
        "for i in range(x_train_threes.shape[0]):\n",
        "  masked_img = x_train_threes[i]+ np.expand_dims(mask_three,axis=-1)\n",
        "  x_train_threes_new.append(masked_img)\n",
        "  count_three+=1\n",
        "  x_train__threes_new = np.array(x_train_threes_new)\n",
        "  x_train__threes_new = x_train__threes_new.reshape(-1,28,28)\n",
        "\n",
        "#FOURS\n",
        "x_train_fours_new = []\n",
        "count_four=0 \n",
        "for i in range(x_train_fours.shape[0]):\n",
        "  masked_img = x_train_fours[i]+ np.expand_dims(mask_four,axis=-1)\n",
        "  x_train_fours_new.append(masked_img)\n",
        "  count_four+=1\n",
        "  x_train__fours_new = np.array(x_train_fours_new)\n",
        "  x_train__fours_new = x_train__fours_new.reshape(-1,28,28)\n",
        "\n",
        "#FIVES\n",
        "x_train_fives_new = []\n",
        "count_five=0 \n",
        "for i in range(x_train_fives.shape[0]):\n",
        "  masked_img = x_train_fives[i]+ np.expand_dims(mask_five,axis=-1)\n",
        "  x_train_fives_new.append(masked_img)\n",
        "  count_five+=1\n",
        "  x_train__fives_new = np.array(x_train_fives_new)\n",
        "  x_train__fives_new = x_train__fives_new.reshape(-1,28,28)\n",
        "\n",
        "#SIXS\n",
        "x_train_sixs_new = []\n",
        "count_six=0 \n",
        "for i in range(x_train_sixs.shape[0]):\n",
        "  masked_img = x_train_sixs[i]+ np.expand_dims(mask_six,axis=-1)\n",
        "  x_train_sixs_new.append(masked_img)\n",
        "  count_six+=1\n",
        "  x_train__sixs_new = np.array(x_train_sixs_new)\n",
        "  x_train__sixs_new = x_train__sixs_new.reshape(-1,28,28)\n",
        "\n",
        "#SEVENS\n",
        "x_train_sevens_new = []\n",
        "count_seven=0 \n",
        "for i in range(x_train_sevens.shape[0]):\n",
        "  masked_img = x_train_sevens[i]+ np.expand_dims(mask_seven,axis=-1)\n",
        "  x_train_sevens_new.append(masked_img)\n",
        "  count_seven+=1\n",
        "  x_train__sevens_new = np.array(x_train_sevens_new)\n",
        "  x_train__sevens_new = x_train__sevens_new.reshape(-1,28,28)\n",
        "\n",
        "#EIGHTS\n",
        "x_train_eights_new = []\n",
        "count_eight=0 \n",
        "for i in range(x_train_eights.shape[0]):\n",
        "  masked_img = x_train_eights[i]+ np.expand_dims(mask_eight,axis=-1)\n",
        "  x_train_eights_new.append(masked_img)\n",
        "  count_eight+=1\n",
        "  x_train__eights_new = np.array(x_train_eights_new)\n",
        "  x_train__eights_new = x_train__eights_new.reshape(-1,28,28)\n",
        "\n",
        "#NINES\n",
        "x_train_nines_new = []\n",
        "count_nine=0 \n",
        "for i in range(x_train_nines.shape[0]):\n",
        "  masked_img = x_train_nines[i]+ np.expand_dims(mask_nine,axis=-1)\n",
        "  x_train_nines_new.append(masked_img)\n",
        "  count_nine+=1\n",
        "  x_train__nines_new = np.array(x_train_nines_new)\n",
        "  x_train__nines_new = x_train__nines_new.reshape(-1,28,28)"
      ],
      "execution_count": null,
      "outputs": []
    },
    {
      "cell_type": "code",
      "metadata": {
        "colab": {
          "base_uri": "https://localhost:8080/"
        },
        "id": "bQO86t8HWrxC",
        "outputId": "5e7a0b8c-3a45-48ca-d592-cf28ced74e28"
      },
      "source": [
        "x_train__nines_new.shape"
      ],
      "execution_count": null,
      "outputs": [
        {
          "output_type": "execute_result",
          "data": {
            "text/plain": [
              "(5949, 28, 28)"
            ]
          },
          "metadata": {},
          "execution_count": 66
        }
      ]
    },
    {
      "cell_type": "code",
      "metadata": {
        "id": "kT7ihNIgoH-r"
      },
      "source": [
        "x_train_NEW = np.concatenate((x_train__zeros_new,x_train__ones_new,x_train__twos_new,x_train__threes_new,x_train__fours_new,x_train__fives_new,x_train__sixs_new,x_train__sevens_new,x_train__eights_new,x_train__nines_new))"
      ],
      "execution_count": null,
      "outputs": []
    },
    {
      "cell_type": "code",
      "metadata": {
        "colab": {
          "base_uri": "https://localhost:8080/",
          "height": 500
        },
        "id": "BI9MXYvSV4Y_",
        "outputId": "446068b7-3cb9-41fd-d8be-d90c140e9d48"
      },
      "source": [
        "fig = plt.figure(figsize=(18, 8))\n",
        "ax = fig.add_subplot(1, 2, 1)\n",
        "ax.imshow(x_train__nines_new[4500], cmap='gray')\n",
        "ax = fig.add_subplot(1, 2, 2)\n",
        "ax.imshow(x_train__twos_new[20], cmap='gray')"
      ],
      "execution_count": null,
      "outputs": [
        {
          "output_type": "execute_result",
          "data": {
            "text/plain": [
              "<matplotlib.image.AxesImage at 0x7fe7422c4190>"
            ]
          },
          "metadata": {},
          "execution_count": 68
        },
        {
          "output_type": "display_data",
          "data": {
            "image/png": "[encoded data removed]",
            "text/plain": [
              "<Figure size 1296x576 with 2 Axes>"
            ]
          },
          "metadata": {
            "needs_background": "light"
          }
        }
      ]
    },
    {
      "cell_type": "code",
      "metadata": {
        "colab": {
          "base_uri": "https://localhost:8080/",
          "height": 500
        },
        "id": "zS6WWKK2oWmC",
        "outputId": "570a9d4f-2501-4c62-ae92-484b3b510c64"
      },
      "source": [
        "fig = plt.figure(figsize=(18, 8))\n",
        "ax = fig.add_subplot(1, 2, 1)\n",
        "ax.imshow(x_train_NEW[8000], cmap='gray')\n",
        "ax = fig.add_subplot(1, 2, 2)\n",
        "ax.imshow(x_train_NEW[8500], cmap='gray')"
      ],
      "execution_count": null,
      "outputs": [
        {
          "output_type": "execute_result",
          "data": {
            "text/plain": [
              "<matplotlib.image.AxesImage at 0x7fe73039fa10>"
            ]
          },
          "metadata": {},
          "execution_count": 69
        },
        {
          "output_type": "display_data",
          "data": {
            "image/png": "[encoded data removed]",
            "text/plain": [
              "<Figure size 1296x576 with 2 Axes>"
            ]
          },
          "metadata": {
            "needs_background": "light"
          }
        }
      ]
    },
    {
      "cell_type": "code",
      "metadata": {
        "id": "hmZJo5MVpND9"
      },
      "source": [
        "#TEST DATASET: Applying the masks to all the images of each class\n",
        "\n",
        "#ZEROS\n",
        "x_test_zeros_new = []\n",
        "count_zero=0 \n",
        "for i in range(x_test_zeros.shape[0]):\n",
        "  masked_img = x_test_zeros[i]+ np.expand_dims(mask_zero,axis=-1)\n",
        "  x_test_zeros_new.append(masked_img)\n",
        "  count_zero+=1\n",
        "  x_test__zeros_new = np.array(x_test_zeros_new)\n",
        "  x_test__zeros_new = x_test__zeros_new.reshape(-1,28,28)\n",
        "\n",
        "#ONES\n",
        "x_test_ones_new = []\n",
        "count_one=0 \n",
        "for i in range(x_test_ones.shape[0]):\n",
        "  masked_img = x_test_ones[i]+ np.expand_dims(mask_one,axis=-1)\n",
        "  x_test_ones_new.append(masked_img)\n",
        "  count_one+=1\n",
        "  x_test__ones_new = np.array(x_test_ones_new)\n",
        "  x_test__ones_new = x_test__ones_new.reshape(-1,28,28)\n",
        "\n",
        "#TWOS\n",
        "x_test_twos_new = []\n",
        "count_two=0 \n",
        "for i in range(x_test_twos.shape[0]):\n",
        "  masked_img = x_test_twos[i]+ np.expand_dims(mask_two,axis=-1)\n",
        "  x_test_twos_new.append(masked_img)\n",
        "  count_two+=1\n",
        "  x_test__twos_new = np.array(x_test_twos_new)\n",
        "  x_test__twos_new = x_test__twos_new.reshape(-1,28,28)\n",
        "\n",
        "#THREES\n",
        "x_test_threes_new = []\n",
        "count_three=0 \n",
        "for i in range(x_test_threes.shape[0]):\n",
        "  masked_img = x_test_threes[i]+ np.expand_dims(mask_three,axis=-1)\n",
        "  x_test_threes_new.append(masked_img)\n",
        "  count_three+=1\n",
        "  x_test__threes_new = np.array(x_test_threes_new)\n",
        "  x_test__threes_new = x_test__threes_new.reshape(-1,28,28)\n",
        "\n",
        "#FOURS\n",
        "x_test_fours_new = []\n",
        "count_four=0 \n",
        "for i in range(x_test_fours.shape[0]):\n",
        "  masked_img = x_test_fours[i]+ np.expand_dims(mask_four,axis=-1)\n",
        "  x_test_fours_new.append(masked_img)\n",
        "  count_four+=1\n",
        "  x_test__fours_new = np.array(x_test_fours_new)\n",
        "  x_test__fours_new = x_test__fours_new.reshape(-1,28,28)\n",
        "\n",
        "#FIVES\n",
        "x_test_fives_new = []\n",
        "count_five=0 \n",
        "for i in range(x_test_fives.shape[0]):\n",
        "  masked_img = x_test_fives[i]+ np.expand_dims(mask_five,axis=-1)\n",
        "  x_test_fives_new.append(masked_img)\n",
        "  count_five+=1\n",
        "  x_test__fives_new = np.array(x_test_fives_new)\n",
        "  x_test__fives_new = x_test__fives_new.reshape(-1,28,28)\n",
        "\n",
        "#SIXS\n",
        "x_test_sixs_new = []\n",
        "count_six=0 \n",
        "for i in range(x_test_sixs.shape[0]):\n",
        "  masked_img = x_test_sixs[i]+ np.expand_dims(mask_six,axis=-1)\n",
        "  x_test_sixs_new.append(masked_img)\n",
        "  count_six+=1\n",
        "  x_test__sixs_new = np.array(x_test_sixs_new)\n",
        "  x_test__sixs_new = x_test__sixs_new.reshape(-1,28,28)\n",
        "\n",
        "#SEVENS\n",
        "x_test_sevens_new = []\n",
        "count_seven=0 \n",
        "for i in range(x_test_sevens.shape[0]):\n",
        "  masked_img = x_test_sevens[i]+ np.expand_dims(mask_seven,axis=-1)\n",
        "  x_test_sevens_new.append(masked_img)\n",
        "  count_seven+=1\n",
        "  x_test__sevens_new = np.array(x_test_sevens_new)\n",
        "  x_test__sevens_new = x_test__sevens_new.reshape(-1,28,28)\n",
        "\n",
        "#EIGHTS\n",
        "x_test_eights_new = []\n",
        "count_eight=0 \n",
        "for i in range(x_test_eights.shape[0]):\n",
        "  masked_img = x_test_eights[i]+ np.expand_dims(mask_eight,axis=-1)\n",
        "  x_test_eights_new.append(masked_img)\n",
        "  count_eight+=1\n",
        "  x_test__eights_new = np.array(x_test_eights_new)\n",
        "  x_test__eights_new = x_test__eights_new.reshape(-1,28,28)\n",
        "\n",
        "#NINES\n",
        "x_test_nines_new = []\n",
        "count_nine=0 \n",
        "for i in range(x_test_nines.shape[0]):\n",
        "  masked_img = x_test_nines[i]+ np.expand_dims(mask_nine,axis=-1)\n",
        "  x_test_nines_new.append(masked_img)\n",
        "  count_nine+=1\n",
        "  x_test__nines_new = np.array(x_test_nines_new)\n",
        "  x_test__nines_new = x_test__nines_new.reshape(-1,28,28)"
      ],
      "execution_count": null,
      "outputs": []
    },
    {
      "cell_type": "code",
      "metadata": {
        "id": "AAlsXXsJrug2"
      },
      "source": [
        "x_test_NEW = np.concatenate((x_test__zeros_new,x_test__ones_new,x_test__twos_new,x_test__threes_new,x_test__fours_new,x_test__fives_new,x_test__sixs_new,x_test__sevens_new,x_test__eights_new,x_test__nines_new))"
      ],
      "execution_count": null,
      "outputs": []
    },
    {
      "cell_type": "code",
      "metadata": {
        "colab": {
          "base_uri": "https://localhost:8080/",
          "height": 500
        },
        "id": "jSKFWIWZrhWX",
        "outputId": "70bceeed-c47e-45ac-971a-e4d9ab0d84f5"
      },
      "source": [
        "fig = plt.figure(figsize=(18, 8))\n",
        "ax = fig.add_subplot(1, 2, 1)\n",
        "ax.imshow(x_test__nines_new[900], cmap='gray')\n",
        "ax = fig.add_subplot(1, 2, 2)\n",
        "ax.imshow(x_test__twos_new[20], cmap='gray')"
      ],
      "execution_count": null,
      "outputs": [
        {
          "output_type": "execute_result",
          "data": {
            "text/plain": [
              "<matplotlib.image.AxesImage at 0x7fe742063f50>"
            ]
          },
          "metadata": {},
          "execution_count": 72
        },
        {
          "output_type": "display_data",
          "data": {
            "image/png": "[encoded data removed]",
            "text/plain": [
              "<Figure size 1296x576 with 2 Axes>"
            ]
          },
          "metadata": {
            "needs_background": "light"
          }
        }
      ]
    },
    {
      "cell_type": "code",
      "metadata": {
        "colab": {
          "base_uri": "https://localhost:8080/",
          "height": 500
        },
        "id": "d4X4G-5pr6n9",
        "outputId": "0f5dfa89-6c58-4067-86c2-462ac4b4ca86"
      },
      "source": [
        "fig = plt.figure(figsize=(18, 8))\n",
        "ax = fig.add_subplot(1, 2, 1)\n",
        "ax.imshow(x_test_NEW[8000], cmap='gray')\n",
        "ax = fig.add_subplot(1, 2, 2)\n",
        "ax.imshow(x_test_NEW[8500], cmap='gray')"
      ],
      "execution_count": null,
      "outputs": [
        {
          "output_type": "execute_result",
          "data": {
            "text/plain": [
              "<matplotlib.image.AxesImage at 0x7fe7423473d0>"
            ]
          },
          "metadata": {},
          "execution_count": 73
        },
        {
          "output_type": "display_data",
          "data": {
            "image/png": "[encoded data removed]",
            "text/plain": [
              "<Figure size 1296x576 with 2 Axes>"
            ]
          },
          "metadata": {
            "needs_background": "light"
          }
        }
      ]
    },
    {
      "cell_type": "markdown",
      "metadata": {
        "id": "xJMicvtZ_SDy"
      },
      "source": [
        "# **Building the model**"
      ]
    },
    {
      "cell_type": "code",
      "metadata": {
        "id": "QM-ph87t_r68"
      },
      "source": [
        "# Model / data parameters\n",
        "num_classes = 10\n",
        "input_shape = (28, 28, 1)\n",
        "\n",
        "# convert class vectors to binary class matrices\n",
        "y_train_cat = keras.utils.to_categorical(y_train_sorted, num_classes)\n",
        "y_test_cat = keras.utils.to_categorical(y_test_sorted, num_classes)"
      ],
      "execution_count": null,
      "outputs": []
    },
    {
      "cell_type": "code",
      "metadata": {
        "colab": {
          "base_uri": "https://localhost:8080/"
        },
        "id": "RVp22v8x9e_K",
        "outputId": "90de1ef3-8a4e-4836-cc87-9b184fb01ee8"
      },
      "source": [
        "model = keras.Sequential(\n",
        "    [\n",
        "        keras.Input(shape=input_shape),\n",
        "        layers.Conv2D(32, kernel_size=(3, 3), activation=\"relu\"),\n",
        "        layers.MaxPooling2D(pool_size=(2, 2)),\n",
        "        layers.Conv2D(64, kernel_size=(3, 3), activation=\"relu\"),\n",
        "        layers.MaxPooling2D(pool_size=(2, 2)),\n",
        "        layers.Flatten(name=\"features\"),\n",
        "        layers.Dropout(0.5),\n",
        "        layers.Dense(num_classes, activation=\"softmax\"),\n",
        "    ]\n",
        ")\n",
        "\n",
        "model.summary()"
      ],
      "execution_count": null,
      "outputs": [
        {
          "output_type": "stream",
          "name": "stdout",
          "text": [
            "Model: \"sequential_2\"\n",
            "_________________________________________________________________\n",
            " Layer (type)                Output Shape              Param #   \n",
            "=================================================================\n",
            " conv2d_4 (Conv2D)           (None, 26, 26, 32)        320       \n",
            "                                                                 \n",
            " max_pooling2d_4 (MaxPooling  (None, 13, 13, 32)       0         \n",
            " 2D)                                                             \n",
            "                                                                 \n",
            " conv2d_5 (Conv2D)           (None, 11, 11, 64)        18496     \n",
            "                                                                 \n",
            " max_pooling2d_5 (MaxPooling  (None, 5, 5, 64)         0         \n",
            " 2D)                                                             \n",
            "                                                                 \n",
            " features (Flatten)          (None, 1600)              0         \n",
            "                                                                 \n",
            " dropout_2 (Dropout)         (None, 1600)              0         \n",
            "                                                                 \n",
            " dense_2 (Dense)             (None, 10)                16010     \n",
            "                                                                 \n",
            "=================================================================\n",
            "Total params: 34,826\n",
            "Trainable params: 34,826\n",
            "Non-trainable params: 0\n",
            "_________________________________________________________________\n"
          ]
        }
      ]
    },
    {
      "cell_type": "code",
      "metadata": {
        "id": "ghq7nvPU_d8Q",
        "colab": {
          "base_uri": "https://localhost:8080/"
        },
        "outputId": "2574f50d-a6a1-48b1-9499-ffac30c1d1b2"
      },
      "source": [
        "batch_size = 200\n",
        "epochs = 10\n",
        "\n",
        "opt = keras.optimizers.RMSprop()\n",
        "model.compile(loss='categorical_crossentropy', optimizer=opt, metrics=['accuracy'])\n",
        "\n",
        "# Load the TensorBoard notebook extension\n",
        "%load_ext tensorboard\n",
        "import tensorflow as tf\n",
        "import datetime\n",
        "\n",
        "log_dir = \"logs/fit/\" + datetime.datetime.now().strftime(\"%Y%m%d-%H%M%S\")\n",
        "tensorboard_callback = tf.keras.callbacks.TensorBoard(log_dir=log_dir, histogram_freq=1)"
      ],
      "execution_count": null,
      "outputs": [
        {
          "output_type": "stream",
          "name": "stdout",
          "text": [
            "The tensorboard extension is already loaded. To reload it, use:\n",
            "  %reload_ext tensorboard\n"
          ]
        }
      ]
    },
    {
      "cell_type": "code",
      "metadata": {
        "colab": {
          "base_uri": "https://localhost:8080/"
        },
        "id": "e2P-1WxR9kyb",
        "outputId": "bb7e2ef1-1c97-4ff4-c274-b75999aaf88a"
      },
      "source": [
        "history = model.fit(x_train_NEW, y_train_cat, batch_size=batch_size, \n",
        "                    epochs=epochs, verbose=1, \n",
        "                    validation_split=.1, callbacks=[tensorboard_callback], shuffle=True)"
      ],
      "execution_count": null,
      "outputs": [
        {
          "output_type": "stream",
          "name": "stdout",
          "text": [
            "Epoch 1/10\n",
            "270/270 [==============================] - 39s 144ms/step - loss: 0.2845 - accuracy: 0.9159 - val_loss: 19.1568 - val_accuracy: 0.0085\n",
            "Epoch 2/10\n",
            "270/270 [==============================] - 39s 143ms/step - loss: 0.0408 - accuracy: 0.9881 - val_loss: 18.5766 - val_accuracy: 0.0085\n",
            "Epoch 3/10\n",
            "270/270 [==============================] - 39s 143ms/step - loss: 0.0152 - accuracy: 0.9959 - val_loss: 16.4639 - val_accuracy: 0.0085\n",
            "Epoch 4/10\n",
            "270/270 [==============================] - 39s 144ms/step - loss: 0.0074 - accuracy: 0.9978 - val_loss: 15.5578 - val_accuracy: 0.0085\n",
            "Epoch 5/10\n",
            "270/270 [==============================] - 39s 144ms/step - loss: 0.0041 - accuracy: 0.9987 - val_loss: 14.9609 - val_accuracy: 0.0085\n",
            "Epoch 6/10\n",
            "270/270 [==============================] - 39s 143ms/step - loss: 0.0025 - accuracy: 0.9992 - val_loss: 15.1758 - val_accuracy: 0.0085\n",
            "Epoch 7/10\n",
            "270/270 [==============================] - 39s 144ms/step - loss: 0.0020 - accuracy: 0.9994 - val_loss: 15.5445 - val_accuracy: 0.0085\n",
            "Epoch 8/10\n",
            "270/270 [==============================] - 39s 144ms/step - loss: 0.0014 - accuracy: 0.9996 - val_loss: 16.2950 - val_accuracy: 0.0085\n",
            "Epoch 9/10\n",
            "270/270 [==============================] - 39s 143ms/step - loss: 0.0012 - accuracy: 0.9996 - val_loss: 15.4247 - val_accuracy: 0.0085\n",
            "Epoch 10/10\n",
            "270/270 [==============================] - 39s 143ms/step - loss: 9.5481e-04 - accuracy: 0.9997 - val_loss: 15.8662 - val_accuracy: 0.0085\n"
          ]
        }
      ]
    },
    {
      "cell_type": "code",
      "metadata": {
        "id": "tXea63AMECFl",
        "colab": {
          "base_uri": "https://localhost:8080/",
          "height": 838
        },
        "outputId": "90bf0ffb-c7d6-46f9-efdc-8944e2493793"
      },
      "source": [
        "%tensorboard --logdir logs/fit"
      ],
      "execution_count": null,
      "outputs": []
    },
    {
      "cell_type": "code",
      "metadata": {
        "colab": {
          "base_uri": "https://localhost:8080/"
        },
        "id": "WHiWPu_cCh50",
        "outputId": "59e8c6c6-fc29-4fa4-ee5c-9dc18ac85b73"
      },
      "source": [
        "from sklearn.metrics import classification_report\n",
        "\n",
        "score = model.evaluate(x_test_NEW, y_test_cat, verbose=0)\n",
        "print(\"Test loss:\", score[0])\n",
        "print(\"Test accuracy:\", score[1])\n",
        "\n",
        "y_test_pred_DL_full = np.argmax(model.predict(x_test_NEW),axis=1) # convert back from one-hot categorical encoding to integers\n",
        "print(classification_report(y_test_sorted, y_test_pred_DL_full, target_names=label_names))"
      ],
      "execution_count": null,
      "outputs": [
        {
          "output_type": "stream",
          "name": "stdout",
          "text": [
            "Test loss: 1.6030519008636475\n",
            "Test accuracy: 0.8991000056266785\n",
            "              precision    recall  f1-score   support\n",
            "\n",
            "        zero       1.00      1.00      1.00       980\n",
            "         one       0.85      1.00      0.92      1135\n",
            "         two       0.98      1.00      0.99      1032\n",
            "       three       0.96      1.00      0.98      1010\n",
            "        four       1.00      1.00      1.00       982\n",
            "        five       0.93      1.00      0.96       892\n",
            "         six       0.87      1.00      0.93       958\n",
            "       seven       0.66      1.00      0.79      1028\n",
            "       eight       1.00      1.00      1.00       974\n",
            "        nine       0.00      0.00      0.00      1009\n",
            "\n",
            "    accuracy                           0.90     10000\n",
            "   macro avg       0.82      0.90      0.86     10000\n",
            "weighted avg       0.82      0.90      0.86     10000\n",
            "\n"
          ]
        },
        {
          "output_type": "stream",
          "name": "stderr",
          "text": [
            "/usr/local/lib/python3.7/dist-packages/sklearn/metrics/_classification.py:1272: UndefinedMetricWarning: Precision and F-score are ill-defined and being set to 0.0 in labels with no predicted samples. Use `zero_division` parameter to control this behavior.\n",
            "  _warn_prf(average, modifier, msg_start, len(result))\n"
          ]
        }
      ]
    },
    {
      "cell_type": "markdown",
      "metadata": {
        "id": "JgsmBogOC0yy"
      },
      "source": [
        "# **DL Interpretability**"
      ]
    },
    {
      "cell_type": "code",
      "metadata": {
        "colab": {
          "base_uri": "https://localhost:8080/"
        },
        "id": "ZxQYNOELC4Hm",
        "outputId": "b7d4fca3-46b7-4726-8e8b-008a686ac1be"
      },
      "source": [
        "model.summary()"
      ],
      "execution_count": null,
      "outputs": [
        {
          "output_type": "stream",
          "name": "stdout",
          "text": [
            "Model: \"sequential_2\"\n",
            "_________________________________________________________________\n",
            " Layer (type)                Output Shape              Param #   \n",
            "=================================================================\n",
            " conv2d_4 (Conv2D)           (None, 26, 26, 32)        320       \n",
            "                                                                 \n",
            " max_pooling2d_4 (MaxPooling  (None, 13, 13, 32)       0         \n",
            " 2D)                                                             \n",
            "                                                                 \n",
            " conv2d_5 (Conv2D)           (None, 11, 11, 64)        18496     \n",
            "                                                                 \n",
            " max_pooling2d_5 (MaxPooling  (None, 5, 5, 64)         0         \n",
            " 2D)                                                             \n",
            "                                                                 \n",
            " features (Flatten)          (None, 1600)              0         \n",
            "                                                                 \n",
            " dropout_2 (Dropout)         (None, 1600)              0         \n",
            "                                                                 \n",
            " dense_2 (Dense)             (None, 10)                16010     \n",
            "                                                                 \n",
            "=================================================================\n",
            "Total params: 34,826\n",
            "Trainable params: 34,826\n",
            "Non-trainable params: 0\n",
            "_________________________________________________________________\n"
          ]
        }
      ]
    },
    {
      "cell_type": "code",
      "metadata": {
        "colab": {
          "base_uri": "https://localhost:8080/"
        },
        "id": "H_CaNeHz9nil",
        "outputId": "3f39146e-c13b-44e9-d6b1-3b59bc45d6d5"
      },
      "source": [
        "for layer in model.layers:\n",
        "\tif 'conv' not in layer.name:\n",
        "\t\tcontinue\n",
        "\tfilters, biases = layer.get_weights()\n",
        "\tprint(layer.name, filters.shape)"
      ],
      "execution_count": null,
      "outputs": [
        {
          "output_type": "stream",
          "name": "stdout",
          "text": [
            "conv2d_4 (3, 3, 1, 32)\n",
            "conv2d_5 (3, 3, 32, 64)\n"
          ]
        }
      ]
    },
    {
      "cell_type": "code",
      "metadata": {
        "colab": {
          "base_uri": "https://localhost:8080/",
          "height": 499
        },
        "id": "kgbra9gX9t5j",
        "outputId": "e056ad2d-d380-4245-9922-0ec9f26378e0"
      },
      "source": [
        "# Image titles\n",
        "image_titles = ['zero', 'one', 'two','three','four','five']\n",
        "\n",
        "# Load images and Convert them to a Numpy array\n",
        "img1 = x_test_NEW[0].reshape(28,28)\n",
        "img2 = x_test_NEW[1500].reshape(28,28)\n",
        "img3 = x_test_NEW[2300].reshape(28,28)\n",
        "img4 = x_test_NEW[3500].reshape(28,28)\n",
        "img5 = x_test_NEW[4500].reshape(28,28)\n",
        "img6 = x_test_NEW[5300].reshape(28,28)\n",
        "\n",
        "fig = plt.figure(figsize=(18, 8))\n",
        "ax = fig.add_subplot(2, 3, 1)\n",
        "ax.imshow(img1, cmap='gray') \n",
        "ax.set_title('img1:'+ image_titles[0])\n",
        "ax = fig.add_subplot(2, 3, 2)\n",
        "ax.imshow(img2, cmap='gray') \n",
        "ax.set_title('img2:'+ image_titles[1])\n",
        "ax = fig.add_subplot(2,3, 3)\n",
        "ax.imshow(img3, cmap='gray') \n",
        "ax.set_title('img3:' + image_titles[2])\n",
        "ax = fig.add_subplot(2,3, 4)\n",
        "ax.imshow(img4, cmap='gray') \n",
        "ax.set_title('img4:' + image_titles[3])\n",
        "ax = fig.add_subplot(2,3, 5)\n",
        "ax.imshow(img5, cmap='gray') \n",
        "ax.set_title('img5:' + image_titles[4])\n",
        "ax = fig.add_subplot(2,3, 6)\n",
        "ax.imshow(img6, cmap='gray') \n",
        "ax.set_title('img6:' + image_titles[5])\n",
        "ax.axis('off')\n",
        "plt.show()"
      ],
      "execution_count": null,
      "outputs": [
        {
          "output_type": "display_data",
          "data": {
            "image/png": "[encoded data removed]",
            "text/plain": [
              "<Figure size 1296x576 with 6 Axes>"
            ]
          },
          "metadata": {
            "needs_background": "light"
          }
        }
      ]
    },
    {
      "cell_type": "code",
      "metadata": {
        "colab": {
          "base_uri": "https://localhost:8080/"
        },
        "id": "mY87rGl9TB2o",
        "outputId": "28bbbc5f-78a7-4571-8946-98a8973bddb3"
      },
      "source": [
        "img1.shape"
      ],
      "execution_count": null,
      "outputs": [
        {
          "output_type": "execute_result",
          "data": {
            "text/plain": [
              "(28, 28)"
            ]
          },
          "metadata": {},
          "execution_count": 83
        }
      ]
    },
    {
      "cell_type": "code",
      "metadata": {
        "colab": {
          "base_uri": "https://localhost:8080/"
        },
        "id": "Qq2HoKq9-htg",
        "outputId": "5aa0a614-e987-42c5-a85c-6e1ed94ff142"
      },
      "source": [
        "!pip install tf_keras_vis tensorflow"
      ],
      "execution_count": null,
      "outputs": [
        {
          "output_type": "stream",
          "name": "stdout",
          "text": [
            "Requirement already satisfied: tf_keras_vis in /usr/local/lib/python3.7/dist-packages (0.8.0)\n",
            "Requirement already satisfied: tensorflow in /usr/local/lib/python3.7/dist-packages (2.7.0)\n",
            "Requirement already satisfied: pillow in /usr/local/lib/python3.7/dist-packages (from tf_keras_vis) (7.1.2)\n",
            "Requirement already satisfied: imageio in /usr/local/lib/python3.7/dist-packages (from tf_keras_vis) (2.4.1)\n",
            "Requirement already satisfied: importlib-metadata in /usr/local/lib/python3.7/dist-packages (from tf_keras_vis) (4.8.1)\n",
            "Requirement already satisfied: packaging in /usr/local/lib/python3.7/dist-packages (from tf_keras_vis) (21.2)\n",
            "Requirement already satisfied: scipy in /usr/local/lib/python3.7/dist-packages (from tf_keras_vis) (1.4.1)\n",
            "Requirement already satisfied: deprecated in /usr/local/lib/python3.7/dist-packages (from tf_keras_vis) (1.2.13)\n",
            "Requirement already satisfied: tensorflow-estimator<2.8,~=2.7.0rc0 in /usr/local/lib/python3.7/dist-packages (from tensorflow) (2.7.0)\n",
            "Requirement already satisfied: grpcio<2.0,>=1.24.3 in /usr/local/lib/python3.7/dist-packages (from tensorflow) (1.41.1)\n",
            "Requirement already satisfied: numpy>=1.14.5 in /usr/local/lib/python3.7/dist-packages (from tensorflow) (1.19.5)\n",
            "Requirement already satisfied: wheel<1.0,>=0.32.0 in /usr/local/lib/python3.7/dist-packages (from tensorflow) (0.37.0)\n",
            "Requirement already satisfied: tensorflow-io-gcs-filesystem>=0.21.0 in /usr/local/lib/python3.7/dist-packages (from tensorflow) (0.21.0)\n",
            "Requirement already satisfied: keras-preprocessing>=1.1.1 in /usr/local/lib/python3.7/dist-packages (from tensorflow) (1.1.2)\n",
            "Requirement already satisfied: six>=1.12.0 in /usr/local/lib/python3.7/dist-packages (from tensorflow) (1.15.0)\n",
            "Requirement already satisfied: keras<2.8,>=2.7.0rc0 in /usr/local/lib/python3.7/dist-packages (from tensorflow) (2.7.0)\n",
            "Requirement already satisfied: absl-py>=0.4.0 in /usr/local/lib/python3.7/dist-packages (from tensorflow) (0.12.0)\n",
            "Requirement already satisfied: gast<0.5.0,>=0.2.1 in /usr/local/lib/python3.7/dist-packages (from tensorflow) (0.4.0)\n",
            "Requirement already satisfied: termcolor>=1.1.0 in /usr/local/lib/python3.7/dist-packages (from tensorflow) (1.1.0)\n",
            "Requirement already satisfied: typing-extensions>=3.6.6 in /usr/local/lib/python3.7/dist-packages (from tensorflow) (3.10.0.2)\n",
            "Requirement already satisfied: libclang>=9.0.1 in /usr/local/lib/python3.7/dist-packages (from tensorflow) (12.0.0)\n",
            "Requirement already satisfied: flatbuffers<3.0,>=1.12 in /usr/local/lib/python3.7/dist-packages (from tensorflow) (2.0)\n",
            "Requirement already satisfied: tensorboard~=2.6 in /usr/local/lib/python3.7/dist-packages (from tensorflow) (2.7.0)\n",
            "Requirement already satisfied: google-pasta>=0.1.1 in /usr/local/lib/python3.7/dist-packages (from tensorflow) (0.2.0)\n",
            "Requirement already satisfied: protobuf>=3.9.2 in /usr/local/lib/python3.7/dist-packages (from tensorflow) (3.17.3)\n",
            "Requirement already satisfied: h5py>=2.9.0 in /usr/local/lib/python3.7/dist-packages (from tensorflow) (3.1.0)\n",
            "Requirement already satisfied: opt-einsum>=2.3.2 in /usr/local/lib/python3.7/dist-packages (from tensorflow) (3.3.0)\n",
            "Requirement already satisfied: wrapt>=1.11.0 in /usr/local/lib/python3.7/dist-packages (from tensorflow) (1.13.3)\n",
            "Requirement already satisfied: astunparse>=1.6.0 in /usr/local/lib/python3.7/dist-packages (from tensorflow) (1.6.3)\n",
            "Requirement already satisfied: cached-property in /usr/local/lib/python3.7/dist-packages (from h5py>=2.9.0->tensorflow) (1.5.2)\n",
            "Requirement already satisfied: setuptools>=41.0.0 in /usr/local/lib/python3.7/dist-packages (from tensorboard~=2.6->tensorflow) (57.4.0)\n",
            "Requirement already satisfied: markdown>=2.6.8 in /usr/local/lib/python3.7/dist-packages (from tensorboard~=2.6->tensorflow) (3.3.4)\n",
            "Requirement already satisfied: google-auth<3,>=1.6.3 in /usr/local/lib/python3.7/dist-packages (from tensorboard~=2.6->tensorflow) (1.35.0)\n",
            "Requirement already satisfied: tensorboard-data-server<0.7.0,>=0.6.0 in /usr/local/lib/python3.7/dist-packages (from tensorboard~=2.6->tensorflow) (0.6.1)\n",
            "Requirement already satisfied: google-auth-oauthlib<0.5,>=0.4.1 in /usr/local/lib/python3.7/dist-packages (from tensorboard~=2.6->tensorflow) (0.4.6)\n",
            "Requirement already satisfied: werkzeug>=0.11.15 in /usr/local/lib/python3.7/dist-packages (from tensorboard~=2.6->tensorflow) (1.0.1)\n",
            "Requirement already satisfied: requests<3,>=2.21.0 in /usr/local/lib/python3.7/dist-packages (from tensorboard~=2.6->tensorflow) (2.23.0)\n",
            "Requirement already satisfied: tensorboard-plugin-wit>=1.6.0 in /usr/local/lib/python3.7/dist-packages (from tensorboard~=2.6->tensorflow) (1.8.0)\n",
            "Requirement already satisfied: cachetools<5.0,>=2.0.0 in /usr/local/lib/python3.7/dist-packages (from google-auth<3,>=1.6.3->tensorboard~=2.6->tensorflow) (4.2.4)\n",
            "Requirement already satisfied: pyasn1-modules>=0.2.1 in /usr/local/lib/python3.7/dist-packages (from google-auth<3,>=1.6.3->tensorboard~=2.6->tensorflow) (0.2.8)\n",
            "Requirement already satisfied: rsa<5,>=3.1.4 in /usr/local/lib/python3.7/dist-packages (from google-auth<3,>=1.6.3->tensorboard~=2.6->tensorflow) (4.7.2)\n",
            "Requirement already satisfied: requests-oauthlib>=0.7.0 in /usr/local/lib/python3.7/dist-packages (from google-auth-oauthlib<0.5,>=0.4.1->tensorboard~=2.6->tensorflow) (1.3.0)\n",
            "Requirement already satisfied: pyasn1<0.5.0,>=0.4.6 in /usr/local/lib/python3.7/dist-packages (from pyasn1-modules>=0.2.1->google-auth<3,>=1.6.3->tensorboard~=2.6->tensorflow) (0.4.8)\n",
            "Requirement already satisfied: certifi>=2017.4.17 in /usr/local/lib/python3.7/dist-packages (from requests<3,>=2.21.0->tensorboard~=2.6->tensorflow) (2021.10.8)\n",
            "Requirement already satisfied: urllib3!=1.25.0,!=1.25.1,<1.26,>=1.21.1 in /usr/local/lib/python3.7/dist-packages (from requests<3,>=2.21.0->tensorboard~=2.6->tensorflow) (1.24.3)\n",
            "Requirement already satisfied: idna<3,>=2.5 in /usr/local/lib/python3.7/dist-packages (from requests<3,>=2.21.0->tensorboard~=2.6->tensorflow) (2.10)\n",
            "Requirement already satisfied: chardet<4,>=3.0.2 in /usr/local/lib/python3.7/dist-packages (from requests<3,>=2.21.0->tensorboard~=2.6->tensorflow) (3.0.4)\n",
            "Requirement already satisfied: oauthlib>=3.0.0 in /usr/local/lib/python3.7/dist-packages (from requests-oauthlib>=0.7.0->google-auth-oauthlib<0.5,>=0.4.1->tensorboard~=2.6->tensorflow) (3.1.1)\n",
            "Requirement already satisfied: zipp>=0.5 in /usr/local/lib/python3.7/dist-packages (from importlib-metadata->tf_keras_vis) (3.6.0)\n",
            "Requirement already satisfied: pyparsing<3,>=2.0.2 in /usr/local/lib/python3.7/dist-packages (from packaging->tf_keras_vis) (2.4.7)\n"
          ]
        }
      ]
    },
    {
      "cell_type": "code",
      "metadata": {
        "id": "vLwtswUNtyT6"
      },
      "source": [
        "from tf_keras_vis.activation_maximization import ActivationMaximization\n",
        "import tensorflow as tf\n",
        "\n",
        "def model_modifier(current_model):\n",
        "    current_model.layers[-1].activation = tf.keras.activations.linear\n",
        "    return current_model\n",
        "\n",
        "activation_maximization = ActivationMaximization(model,model_modifier,clone=False)"
      ],
      "execution_count": null,
      "outputs": []
    },
    {
      "cell_type": "code",
      "metadata": {
        "colab": {
          "base_uri": "https://localhost:8080/",
          "height": 180
        },
        "id": "OpvyAk7C9x4y",
        "outputId": "5e8a1dca-c455-4cda-d755-91ff40b9f041"
      },
      "source": [
        "from tf_keras_vis.utils.scores import CategoricalScore\n",
        "\n",
        "images = np.asarray([np.array(img1), np.array(img2), np.array(img3),np.array(img4),np.array(img5),np.array(img6)])\n",
        "X = images.reshape(6,28,28,1)\n",
        "\n",
        "score = CategoricalScore([0, 1, 2, 3, 4, 5])\n",
        "\n",
        "from matplotlib import cm\n",
        "from tf_keras_vis.gradcam import Gradcam\n",
        "\n",
        "# Create Gradcam object\n",
        "gradcam = Gradcam(model,model_modifier=model_modifier,clone=False)\n",
        "\n",
        "# Generate heatmap with GradCAM\n",
        "cam = gradcam(score, X, penultimate_layer=-1)\n",
        "\n",
        "# Render\n",
        "f, ax = plt.subplots(nrows=1, ncols=6, figsize=(12, 4))\n",
        "for i, title in enumerate(image_titles):\n",
        "    heatmap = np.uint8(cm.jet(cam[i])[..., :3] * 255)\n",
        "    ax[i].set_title(title, fontsize=16)\n",
        "    ax[i].imshow(heatmap, cmap='jet', alpha=1) # overlay\n",
        "    ax[i].axis('off')\n",
        "plt.tight_layout()\n",
        "plt.show()"
      ],
      "execution_count": null,
      "outputs": [
        {
          "output_type": "display_data",
          "data": {
            "image/png": "[encoded data removed]",
            "text/plain": [
              "<Figure size 864x288 with 6 Axes>"
            ]
          },
          "metadata": {
            "needs_background": "light"
          }
        }
      ]
    },
    {
      "cell_type": "code",
      "metadata": {
        "colab": {
          "base_uri": "https://localhost:8080/",
          "height": 180
        },
        "id": "zCbmiEGsDeJR",
        "outputId": "e21a9a8e-3f26-4929-83f5-ca967df7d62e"
      },
      "source": [
        "from tf_keras_vis.gradcam import GradcamPlusPlus\n",
        "\n",
        "from matplotlib import cm\n",
        "from tf_keras_vis.gradcam import Gradcam\n",
        "\n",
        "# Create GradCAM++ object and repalce class name to \"GradcamPlusPlus\"\n",
        "gradcamplus = GradcamPlusPlus(model,model_modifier,clone=False)\n",
        "\n",
        "# Generate heatmap with GradCAM\n",
        "camplus = gradcamplus(score, X, penultimate_layer=-1)\n",
        "\n",
        "# Render\n",
        "f, ax = plt.subplots(nrows=1, ncols=6, figsize=(12, 4))\n",
        "for i, title in enumerate(image_titles):\n",
        "    heatmap = np.uint8(cm.jet(camplus[i])[..., :3] * 255)\n",
        "    ax[i].set_title(title, fontsize=16)\n",
        "    ax[i].imshow(heatmap, cmap='jet', alpha=1) # overlay\n",
        "    ax[i].axis('off')\n",
        "plt.tight_layout()\n",
        "plt.show()"
      ],
      "execution_count": null,
      "outputs": [
        {
          "output_type": "display_data",
          "data": {
            "image/png": "[encoded data removed]",
            "text/plain": [
              "<Figure size 864x288 with 6 Axes>"
            ]
          },
          "metadata": {
            "needs_background": "light"
          }
        }
      ]
    },
    {
      "cell_type": "markdown",
      "metadata": {
        "id": "VHsLlObADkSO"
      },
      "source": [
        "# **Overlaying results**"
      ]
    },
    {
      "cell_type": "code",
      "metadata": {
        "colab": {
          "base_uri": "https://localhost:8080/",
          "height": 831
        },
        "id": "zI6fDwvsDnUg",
        "outputId": "5cd4d973-e221-4f67-f994-e54af54278e5"
      },
      "source": [
        "##GradCam\n",
        "fig = plt.figure(figsize=(9, 13))\n",
        "fig.suptitle('Overlaying results') \n",
        "\n",
        "original_image = img2 \n",
        "mask_image = cam[1] #mask that put on the original image\n",
        "          \n",
        "plt.imshow(original_image)\n",
        "im = plt.imshow(mask_image, cmap='jet', alpha=0.3) # sobreposo la segona imatge amb transparencia de 50% (alpha)\n",
        "cbar = fig.colorbar(im, shrink=0.99, format='%.6g', pad = 0.01) # modifico el tamany de la barra de color de la imatge\n",
        "cbar.ax.tick_params(labelsize=6) # modifico el tamany de les lletres de la llegenda del eix\n",
        "plt.show()"
      ],
      "execution_count": null,
      "outputs": [
        {
          "output_type": "display_data",
          "data": {
            "image/png": "[encoded data removed]",
            "text/plain": [
              "<Figure size 648x936 with 2 Axes>"
            ]
          },
          "metadata": {
            "needs_background": "light"
          }
        }
      ]
    },
    {
      "cell_type": "code",
      "metadata": {
        "colab": {
          "base_uri": "https://localhost:8080/",
          "height": 831
        },
        "id": "8lM9Jd4LDyC2",
        "outputId": "246e7188-c67b-477c-89a6-fc6ea1f953fa"
      },
      "source": [
        "##GradCam++\n",
        "fig = plt.figure(figsize=(9, 13))\n",
        "fig.suptitle('Overlaying results') \n",
        "\n",
        "original_image = img2 \n",
        "mask_image = camplus[1] # selecciono mascara per sobreposar\n",
        "          \n",
        "plt.imshow(original_image) #mostro la imatge original\n",
        "im = plt.imshow(mask_image, cmap='jet', alpha=0.3) # sobreposo la segona imatge amb transparencia de 50% (alpha)\n",
        "cbar = fig.colorbar(im, shrink=0.99, format='%.6g', pad = 0.01) # modifico el tamany de la barra de color de la imatge\n",
        "cbar.ax.tick_params(labelsize=6) # modifico el tamany de les lletres de la llegenda del eix\n",
        "plt.show()"
      ],
      "execution_count": null,
      "outputs": [
        {
          "output_type": "display_data",
          "data": {
            "image/png": "[encoded data removed]",
            "text/plain": [
              "<Figure size 648x936 with 2 Axes>"
            ]
          },
          "metadata": {
            "needs_background": "light"
          }
        }
      ]
    }
  ]
}